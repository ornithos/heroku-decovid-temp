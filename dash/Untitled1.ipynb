{
 "cells": [
  {
   "cell_type": "code",
   "execution_count": 1,
   "metadata": {},
   "outputs": [],
   "source": [
    "from sqlalchemy.ext.compiler import compiles\n",
    "from sqlalchemy.sql.expression import FromClause"
   ]
  },
  {
   "cell_type": "code",
   "execution_count": 2,
   "metadata": {},
   "outputs": [],
   "source": [
    "from sqlalchemy import (\n",
    "        MetaData,\n",
    "        create_engine,\n",
    "        String,\n",
    "        Integer,\n",
    "        Table,\n",
    "        Column,\n",
    "    )\n",
    "from sqlalchemy.sql import column\n",
    "from sqlalchemy.orm import Session, mapper"
   ]
  },
  {
   "cell_type": "code",
   "execution_count": 10,
   "metadata": {},
   "outputs": [],
   "source": [
    "# DEFINE VALUES CLAUSE\n",
    "# https://github.com/sqlalchemy/sqlalchemy/wiki/PGValues\n",
    "\n",
    "class values(FromClause):\n",
    "    named_with_column = True\n",
    "\n",
    "    def __init__(self, columns, *args, **kw):\n",
    "        self._column_args = columns\n",
    "        self.list = args\n",
    "        self.alias_name = self.name = kw.pop(\"alias_name\", None)\n",
    "\n",
    "    def _populate_column_collection(self):\n",
    "        for c in self._column_args:\n",
    "            c._make_proxy(self)\n",
    "\n",
    "    @property\n",
    "    def _from_objects(self):\n",
    "        return [self]\n",
    "\n",
    "\n",
    "@compiles(values)\n",
    "def compile_values(element, compiler, asfrom=False, **kw):\n",
    "    columns = element.columns\n",
    "    v = \"VALUES %s\" % \", \".join(\n",
    "        \"(%s)\"\n",
    "        % \", \".join(\n",
    "            compiler.render_literal_value(elem, column.type)\n",
    "            for elem, column in zip(tup, columns)\n",
    "        )\n",
    "        for tup in element.list\n",
    "    )\n",
    "    if asfrom:\n",
    "        if element.alias_name:\n",
    "            v = \"(%s) AS %s (%s)\" % (\n",
    "                v,\n",
    "                element.alias_name,\n",
    "                (\", \".join(c.name for c in element.columns)),\n",
    "            )\n",
    "        else:\n",
    "            v = \"(%s)\" % v\n",
    "    return v"
   ]
  },
  {
   "cell_type": "code",
   "execution_count": 3,
   "metadata": {},
   "outputs": [],
   "source": [
    "m1 = MetaData()\n",
    "\n",
    "class T(object):\n",
    "    pass\n",
    "\n",
    "t1 = Table(\n",
    "    \"mytable\",\n",
    "    m1,\n",
    "    Column(\"mykey\", Integer, primary_key=True),\n",
    "    Column(\"mytext\", String),\n",
    "    Column(\"myint\", Integer),\n",
    ")\n",
    "mapper(T, t1)"
   ]
  },
  {
   "cell_type": "code",
   "execution_count": 11,
   "metadata": {},
   "outputs": [],
   "source": [
    "t2 = values(\n",
    "    [\n",
    "        column(\"mykey\", Integer),\n",
    "        column(\"mytext\", String),\n",
    "        column(\"myint\", Integer),\n",
    "    ],\n",
    "    (1, \"textA\", 99),\n",
    "    (2, \"textB\", 88),\n",
    "    alias_name=\"myvalues\",\n",
    ")"
   ]
  },
  {
   "cell_type": "code",
   "execution_count": 12,
   "metadata": {},
   "outputs": [
    {
     "name": "stdout",
     "output_type": "stream",
     "text": [
      "2020-06-02 10:36:46,970 INFO sqlalchemy.engine.base.Engine select version()\n",
      "2020-06-02 10:36:46,971 INFO sqlalchemy.engine.base.Engine {}\n",
      "2020-06-02 10:36:46,999 INFO sqlalchemy.engine.base.Engine select current_schema()\n",
      "2020-06-02 10:36:47,000 INFO sqlalchemy.engine.base.Engine {}\n",
      "2020-06-02 10:36:47,034 INFO sqlalchemy.engine.base.Engine SELECT CAST('test plain returns' AS VARCHAR(60)) AS anon_1\n",
      "2020-06-02 10:36:47,035 INFO sqlalchemy.engine.base.Engine {}\n",
      "2020-06-02 10:36:47,038 INFO sqlalchemy.engine.base.Engine SELECT CAST('test unicode returns' AS VARCHAR(60)) AS anon_1\n",
      "2020-06-02 10:36:47,039 INFO sqlalchemy.engine.base.Engine {}\n",
      "2020-06-02 10:36:47,043 INFO sqlalchemy.engine.base.Engine show standard_conforming_strings\n",
      "2020-06-02 10:36:47,045 INFO sqlalchemy.engine.base.Engine {}\n",
      "2020-06-02 10:36:47,048 INFO sqlalchemy.engine.base.Engine select relname from pg_class c join pg_namespace n on n.oid=c.relnamespace where pg_catalog.pg_table_is_visible(c.oid) and relname=%(name)s\n",
      "2020-06-02 10:36:47,049 INFO sqlalchemy.engine.base.Engine {'name': 'mytable'}\n"
     ]
    }
   ],
   "source": [
    "e = create_engine(\"postgresql://alexbird:@localhost/synpuf1k\", echo=True)\n",
    "m1.create_all(e)"
   ]
  },
  {
   "cell_type": "code",
   "execution_count": 13,
   "metadata": {},
   "outputs": [],
   "source": [
    "sess = Session(e)"
   ]
  },
  {
   "cell_type": "code",
   "execution_count": 24,
   "metadata": {},
   "outputs": [
    {
     "name": "stdout",
     "output_type": "stream",
     "text": [
      "2020-06-02 10:38:56,358 INFO sqlalchemy.engine.base.Engine SELECT mytable.mykey AS mytable_mykey, mytable.mytext AS mytable_mytext, mytable.myint AS mytable_myint \n",
      "FROM mytable, (VALUES (1, 'textA', 99), (2, 'textB', 88)) AS myvalues (mykey, mytext, myint) \n",
      "WHERE mytable.mykey = myvalues.mykey\n",
      "2020-06-02 10:38:56,359 INFO sqlalchemy.engine.base.Engine {}\n"
     ]
    },
    {
     "data": {
      "text/plain": [
       "[]"
      ]
     },
     "execution_count": 24,
     "metadata": {},
     "output_type": "execute_result"
    }
   ],
   "source": [
    "sess.query(T).filter(T.mykey == t2.c.mykey).all()"
   ]
  },
  {
   "cell_type": "code",
   "execution_count": 28,
   "metadata": {},
   "outputs": [
    {
     "data": {
      "text/plain": [
       "\"mytable JOIN (VALUES (1, 'textA', 99), (2, 'textB', 88)) AS myvalues (mykey, mytext, myint) ON mytable.mykey = myvalues.mykey\""
      ]
     },
     "execution_count": 28,
     "metadata": {},
     "output_type": "execute_result"
    }
   ],
   "source": [
    "str(t1.join(t2, t1.c.mykey == t2.c.mykey))"
   ]
  },
  {
   "cell_type": "code",
   "execution_count": 3,
   "metadata": {},
   "outputs": [],
   "source": [
    "import plotly.graph_objects as go\n",
    "import plotly.express as px"
   ]
  },
  {
   "cell_type": "code",
   "execution_count": 5,
   "metadata": {},
   "outputs": [
    {
     "data": {
      "text/plain": [
       "'#4C78A8'"
      ]
     },
     "execution_count": 5,
     "metadata": {},
     "output_type": "execute_result"
    }
   ],
   "source": [
    "px.colors.qualitative.T10[0]"
   ]
  },
  {
   "cell_type": "code",
   "execution_count": 22,
   "metadata": {},
   "outputs": [
    {
     "name": "stdout",
     "output_type": "stream",
     "text": [
      "SELECT mytable.mykey AS mytable_mykey\n",
      " mytable.mytext AS mytable_mytext\n",
      " mytable.myint AS mytable_myint \n",
      "FROM mytable\n",
      " (VALUES (1\n",
      " 'textA'\n",
      " 99)\n",
      " (2\n",
      " 'textB'\n",
      " 88)) AS myvalues (mykey\n",
      " mytext\n",
      " myint) \n",
      "WHERE mytable.mykey = myvalues.mykey\n"
     ]
    }
   ],
   "source": [
    "print(\"\\n\".join(str(sess.query(T).filter(T.mykey == t2.c.mykey)).split(\",\")))"
   ]
  }
 ],
 "metadata": {
  "@webio": {
   "lastCommId": null,
   "lastKernelId": null
  },
  "kernelspec": {
   "display_name": "Python [conda env:dash]",
   "language": "python",
   "name": "conda-env-dash-py"
  },
  "language_info": {
   "codemirror_mode": {
    "name": "ipython",
    "version": 3
   },
   "file_extension": ".py",
   "mimetype": "text/x-python",
   "name": "python",
   "nbconvert_exporter": "python",
   "pygments_lexer": "ipython3",
   "version": "3.6.8"
  }
 },
 "nbformat": 4,
 "nbformat_minor": 2
}
