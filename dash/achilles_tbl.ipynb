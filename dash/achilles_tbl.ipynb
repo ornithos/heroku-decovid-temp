{
 "cells": [
  {
   "cell_type": "code",
   "execution_count": 5,
   "metadata": {},
   "outputs": [],
   "source": [
    "import os\n",
    "import sqlalchemy\n",
    "import pandas as pd\n",
    "import numpy as np\n",
    "import argparse\n",
    "from warnings import warn"
   ]
  },
  {
   "cell_type": "code",
   "execution_count": 15,
   "metadata": {},
   "outputs": [],
   "source": [
    "# ADD LOCAL PYTHON FILES\n",
    "import pydecovid\n",
    "from pydecovid.dashutil.tableutil import *\n",
    "from pydecovid.queries import qry_table1\n",
    "from pydecovid.db import tabledefs"
   ]
  },
  {
   "cell_type": "code",
   "execution_count": 10,
   "metadata": {},
   "outputs": [],
   "source": [
    "from sqlalchemy import select, cast, Table"
   ]
  },
  {
   "cell_type": "markdown",
   "metadata": {},
   "source": [
    "### Parse user / command line options"
   ]
  },
  {
   "cell_type": "code",
   "execution_count": 11,
   "metadata": {},
   "outputs": [],
   "source": [
    "def parse_args(use_args=None):\n",
    "    parser = argparse.ArgumentParser()\n",
    "    parser.add_argument(\"-u\", \"--user\", help=\"Database username\", default=\"alexbird\")\n",
    "    parser.add_argument(\"-p\", \"--password\", help=\"Database password\", default=\"\")\n",
    "    parser.add_argument(\"-d\", \"--dialect\", help=\"Database dialect\", default=\"postgresql\")\n",
    "    parser.add_argument(\"--url\", help=\"Database URL\", default=\"localhost\")\n",
    "    parser.add_argument(\"--driver\", help=\"Database driver (e.g. pyodbc)\", default=\"\")\n",
    "    parser.add_argument(\"--db\", help=\"Database name\", default=\"synpuf1k\")\n",
    "    parser.add_argument(\"--dsn\", help=\"Data source name\", default=\"\")\n",
    "    parser.add_argument(\"--trusted\", help=\"Trusted connection\", action='store_true')\n",
    "    \n",
    "    if use_args:\n",
    "        args = parser.parse_args(use_args.split(\" \")).__dict__\n",
    "    else:\n",
    "        args = parser.parse_args().__dict__\n",
    "    \n",
    "    assert not args['dialect'].lower() == \"sqlite\", \"SQLite not supported\"\n",
    "    uidpwd = \"{user:s}:{password}\".format(**args) if not args['trusted'] else \"\"\n",
    "    args['driver'] = \"+\" + args['driver'] if len(args['driver']) > 0 else \"\"\n",
    "    rdbms = \"{dialect:s}{driver:s}\".format(**args)\n",
    "    url = \"@\" + args['url'] if len(args['dsn']) == 0 else args['dsn']\n",
    "    db = \"/\" + args['db'] if len(args['db']) > 0 else args['db']\n",
    "    \n",
    "    # extract connection string\n",
    "    connstr = f\"{rdbms:s}://{uidpwd:s}{url:s}{db:s}\"\n",
    "    args = {k:tmp[k] for k in args.keys() - [\"dialect\", \"user\", \"password\", \"db\", \"driver\", \n",
    "                                             \"db\", \"dsn\", \"trusted\", \"url\"]}\n",
    "    args[\"connstr\"] = connstr\n",
    "    return args"
   ]
  },
  {
   "cell_type": "code",
   "execution_count": 12,
   "metadata": {},
   "outputs": [],
   "source": [
    "user_args = parse_args(\"-d postgresql\")"
   ]
  },
  {
   "cell_type": "markdown",
   "metadata": {},
   "source": [
    "### Connect to DB and load from tables\n",
    "\n",
    "`Pandas` has a direct `read_sql` function, which would be absolutely fine if we were not database agnostic.\n",
    "\n",
    "1. Achilles is RDBMS agnostic, and it is reasonable to keep our work RDBMS agnostic if possible.\n",
    "2. `sqlalchemy` makes it easy to remain database agnostic.\n",
    "3. The codebase was initially developed locally on Postgres rather than SQL Server."
   ]
  },
  {
   "cell_type": "code",
   "execution_count": 13,
   "metadata": {},
   "outputs": [],
   "source": [
    "engine = sqlalchemy.create_engine(user_args['connstr'])\n",
    "metadata = sqlalchemy.MetaData()"
   ]
  },
  {
   "cell_type": "code",
   "execution_count": 16,
   "metadata": {},
   "outputs": [],
   "source": [
    "# SAFETY: keep results tables schemas in `tablerefs` file and load explicitly\n",
    "# rather than using schema from existing connection\n",
    "#\n",
    "# ==> The OMOP schema is not likely to change, but Achilles might, or some\n",
    "# mistake might be made during the creation / running of the tool. We prefer\n",
    "# the code not to fail silently\n",
    "tbl_results, tbl_results_dist = tabledefs.results_tables(metadata);\n",
    "assert tbl_results.exists(engine), \"(Standard) results table not found in the database.\"\n",
    "assert tbl_results_dist.exists(engine), \"(Distribution) results table not found in the database.\""
   ]
  },
  {
   "cell_type": "code",
   "execution_count": 17,
   "metadata": {},
   "outputs": [],
   "source": [
    "# Load CONCEPT metadata from database (see also metadata.reflect(engine))\n",
    "tbl_concept = Table('concept', metadata, autoload=True, autoload_with=engine)"
   ]
  },
  {
   "cell_type": "markdown",
   "metadata": {},
   "source": [
    "### Joining analysis results to concepts\n",
    "\n",
    "Now, this is much more ugly than I had anticipated. The possible values in the OLAP-like columns (`stratum_` 1 through 5) can include `concept_id`s, `NULL`s and strings. They are currently stored in `VARCHAR` format, and filtering for numeric values is technically possible in SQL server, but not in all dialects.\n",
    "\n",
    "Since we need to do 5 joins to the same table (one for each stratum), and only a limited subset of the large `Concept` table will be used, I propose that this is done by Python rather than by the RDBMS. I do not believe that we will be losing much in the way of performance in doing this."
   ]
  },
  {
   "cell_type": "markdown",
   "metadata": {},
   "source": [
    "### Annotate non-concept rows in results table"
   ]
  },
  {
   "cell_type": "code",
   "execution_count": 18,
   "metadata": {},
   "outputs": [],
   "source": [
    "achilles_schema = pd.read_csv(\"../../Achilles/inst/csv/achilles/achilles_analysis_details.csv\")\n",
    "achilles_schema = achilles_schema[[\"ANALYSIS_ID\", \"STRATUM_1_NAME\", \"STRATUM_2_NAME\",\n",
    "                                  \"STRATUM_3_NAME\", \"STRATUM_4_NAME\", \"STRATUM_5_NAME\", \"ANALYSIS_NAME\"]]\n",
    "achilles_schema['STRATUM_5_NAME'] = achilles_schema['STRATUM_5_NAME'].astype(object)"
   ]
  },
  {
   "cell_type": "code",
   "execution_count": 19,
   "metadata": {},
   "outputs": [],
   "source": [
    "def ref_age(x):\n",
    "    return (x == \"year_of_birth\") | (x == \"age\") | (x == \"age_decile\") | (x == \"age decile\")\n",
    "def ref_datetime(x):\n",
    "    return (x == 'calendar_month') | (x == 'calendar month') | (x == 'calendar year')\n",
    "def ref_periods(x):\n",
    "    return (x == 'payer plan period length 30d increments') | \\\n",
    "           (x == 'Observation period length 30d increments') | \\\n",
    "           (x == 'number of observation periods') | \\\n",
    "           (x == 'number of payer plan periods')\n",
    "def ref_location(x):\n",
    "    return (x == '3-digit zip') | (x == 'state')\n",
    "def ref_table(x):\n",
    "    return (x == 'table name') | (x == 'table_name')\n",
    "def ref_other(x):\n",
    "    return (x == 'source_value')\n",
    "def bad_concept(x):\n",
    "    x = x.str.strip()\n",
    "    return ref_age(x) | ref_datetime(x) | ref_location(x) | ref_periods(x) | ref_table(x) | \\\n",
    "           ref_other(x) | x.isna()"
   ]
  },
  {
   "cell_type": "code",
   "execution_count": 20,
   "metadata": {},
   "outputs": [],
   "source": [
    "not_concepts = [bad_concept(achilles_schema[\"STRATUM_{:d}_NAME\".format(i+1)]) for i in range(5)]\n",
    "not_concepts = [pd.DataFrame({'analysis_id': achilles_schema.ANALYSIS_ID, \n",
    "                              'bad_{:d}'.format(i+1): x}) for i,x in enumerate(not_concepts)]\n"
   ]
  },
  {
   "cell_type": "code",
   "execution_count": 21,
   "metadata": {},
   "outputs": [],
   "source": [
    "# analysis_id > 2000000 are Achilles statistics (irrelevant)\n",
    "q = tbl_results.select().where(tbl_results.c.analysis_id < 2000000)\n",
    "df_result = pd.read_sql(q, engine)"
   ]
  },
  {
   "cell_type": "code",
   "execution_count": 22,
   "metadata": {},
   "outputs": [],
   "source": [
    "# determine stratum_{:d} values which are not concept_ids\n",
    "for i in range(5):\n",
    "    # determine bad concept based on definition in CSV\n",
    "    df_result = pd.merge(df_result, not_concepts[i], how=\"left\", on=\"analysis_id\")\n",
    "    \n",
    "    # determine bad_concept based on value in results stratum\n",
    "    s, b = \"stratum_{:d}\".format(i+1), \"bad_{:d}\".format(i+1)\n",
    "    df_result[b] = df_result[b] | df_result[s].isna() | (df_result[s].str.len() == 0)"
   ]
  },
  {
   "cell_type": "code",
   "execution_count": 23,
   "metadata": {},
   "outputs": [],
   "source": [
    "# Check that all non-numeric strings have been labelled as \"non-concept_id\".\n",
    "def isdigit_or_none(x):\n",
    "    return x.str.isdigit() | x.isna()\n",
    "\n",
    "for i in range(1,6):\n",
    "    assert (~isdigit_or_none(df_result[\"stratum_{:d}\".format(i)]) & \\\n",
    "            ~df_result[\"bad_{:d}\".format(i)]).sum() == 0, \"Achilles results table has non-numeric \" + \\\n",
    "           \"codes that have *NOT* been removed by pre-processing (stratum_{:d}).\".format(i)"
   ]
  },
  {
   "cell_type": "markdown",
   "metadata": {},
   "source": [
    "### Merge to concept table where relevant"
   ]
  },
  {
   "cell_type": "code",
   "execution_count": 24,
   "metadata": {},
   "outputs": [
    {
     "ename": "NameError",
     "evalue": "name 'df0' is not defined",
     "output_type": "error",
     "traceback": [
      "\u001b[0;31m---------------------------------------------------------------------------\u001b[0m",
      "\u001b[0;31mNameError\u001b[0m                                 Traceback (most recent call last)",
      "\u001b[0;32m<ipython-input-24-378ac4917215>\u001b[0m in \u001b[0;36m<module>\u001b[0;34m()\u001b[0m\n\u001b[1;32m      4\u001b[0m \u001b[0;34m\u001b[0m\u001b[0m\n\u001b[1;32m      5\u001b[0m all_concepts = np.hstack([df_result['stratum_{:d}'.format(i)][\n\u001b[0;32m----> 6\u001b[0;31m     ~df0['bad_{:d}'.format(i)]].unique() for i in range(1,6)])\n\u001b[0m\u001b[1;32m      7\u001b[0m \u001b[0mall_concepts\u001b[0m \u001b[0;34m=\u001b[0m \u001b[0mlist\u001b[0m\u001b[0;34m(\u001b[0m\u001b[0mfilter\u001b[0m\u001b[0;34m(\u001b[0m\u001b[0mis_concept_id\u001b[0m\u001b[0;34m,\u001b[0m \u001b[0mall_concepts\u001b[0m\u001b[0;34m)\u001b[0m\u001b[0;34m)\u001b[0m\u001b[0;34m\u001b[0m\u001b[0;34m\u001b[0m\u001b[0m\n\u001b[1;32m      8\u001b[0m \u001b[0mall_concepts\u001b[0m \u001b[0;34m=\u001b[0m \u001b[0;34m[\u001b[0m\u001b[0mint\u001b[0m\u001b[0;34m(\u001b[0m\u001b[0mx\u001b[0m\u001b[0;34m)\u001b[0m \u001b[0;32mfor\u001b[0m \u001b[0mx\u001b[0m \u001b[0;32min\u001b[0m \u001b[0mall_concepts\u001b[0m\u001b[0;34m]\u001b[0m\u001b[0;34m\u001b[0m\u001b[0;34m\u001b[0m\u001b[0m\n",
      "\u001b[0;32m<ipython-input-24-378ac4917215>\u001b[0m in \u001b[0;36m<listcomp>\u001b[0;34m(.0)\u001b[0m\n\u001b[1;32m      4\u001b[0m \u001b[0;34m\u001b[0m\u001b[0m\n\u001b[1;32m      5\u001b[0m all_concepts = np.hstack([df_result['stratum_{:d}'.format(i)][\n\u001b[0;32m----> 6\u001b[0;31m     ~df0['bad_{:d}'.format(i)]].unique() for i in range(1,6)])\n\u001b[0m\u001b[1;32m      7\u001b[0m \u001b[0mall_concepts\u001b[0m \u001b[0;34m=\u001b[0m \u001b[0mlist\u001b[0m\u001b[0;34m(\u001b[0m\u001b[0mfilter\u001b[0m\u001b[0;34m(\u001b[0m\u001b[0mis_concept_id\u001b[0m\u001b[0;34m,\u001b[0m \u001b[0mall_concepts\u001b[0m\u001b[0;34m)\u001b[0m\u001b[0;34m)\u001b[0m\u001b[0;34m\u001b[0m\u001b[0;34m\u001b[0m\u001b[0m\n\u001b[1;32m      8\u001b[0m \u001b[0mall_concepts\u001b[0m \u001b[0;34m=\u001b[0m \u001b[0;34m[\u001b[0m\u001b[0mint\u001b[0m\u001b[0;34m(\u001b[0m\u001b[0mx\u001b[0m\u001b[0;34m)\u001b[0m \u001b[0;32mfor\u001b[0m \u001b[0mx\u001b[0m \u001b[0;32min\u001b[0m \u001b[0mall_concepts\u001b[0m\u001b[0;34m]\u001b[0m\u001b[0;34m\u001b[0m\u001b[0;34m\u001b[0m\u001b[0m\n",
      "\u001b[0;31mNameError\u001b[0m: name 'df0' is not defined"
     ]
    }
   ],
   "source": [
    "# Get a list of all numeric concept_ids from *ALL* strata\n",
    "def is_concept_id(x): \n",
    "    return x is not None and x.isdigit()\n",
    "\n",
    "all_concepts = np.hstack([df_result['stratum_{:d}'.format(i)][\n",
    "    ~df0['bad_{:d}'.format(i)]].unique() for i in range(1,6)])\n",
    "all_concepts = list(filter(is_concept_id, all_concepts))\n",
    "all_concepts = [int(x) for x in all_concepts]\n",
    "all_concepts = np.unique(np.sort(all_concepts))"
   ]
  },
  {
   "cell_type": "code",
   "execution_count": 309,
   "metadata": {},
   "outputs": [],
   "source": [
    "# Make sure not too large\n",
    "len(all_concepts) >= 20000 and warn(\"all_concepts list is large: may run very slowly.\");\n",
    "assert len(all_concepts) <= 100000, \"all_concepts list is over 100,000 concept IDs. The query is too large.\""
   ]
  },
  {
   "cell_type": "code",
   "execution_count": 310,
   "metadata": {},
   "outputs": [],
   "source": [
    "# Retrieve all the relevant concepts\n",
    "val_concepts = valuesstmt.values(\n",
    "    [\n",
    "        sqlalchemy.column(\"concept_id\", sqlalchemy.INTEGER),\n",
    "    ],\n",
    "    *[(x,) for x in all_concepts],\n",
    "    alias_name=\"myconcepts\",\n",
    ")\n",
    "\n",
    "tbl_conceptjoin = tbl_concept.join(val_concepts, \n",
    "                                   tbl_concept.c.concept_id == val_concepts.c.concept_id)\n",
    "\n",
    "tc = tbl_concept.c  # shorthand\n",
    "df_concept = pd.read_sql(select([tc.concept_id,\n",
    "                                 tc.concept_name,\n",
    "                                 tc.domain_id])\\\n",
    "                         .select_from(tbl_conceptjoin).\\\n",
    "                         where(\n",
    "                                (tc.standard_concept=='S') and\n",
    "                                (tc.invalid_reason == None)\n",
    "                              ), \n",
    "                         engine)\n",
    "del tc              # delete shorthand"
   ]
  },
  {
   "cell_type": "code",
   "execution_count": 311,
   "metadata": {},
   "outputs": [],
   "source": [
    "assert df_concept.concept_id.nunique() == df_concept.shape[0], \\\n",
    "    \"Retrieved concept table does not have a unique primary key.\"\n",
    "\n",
    "df_concept.index = df_concept.concept_id\n",
    "df_concept = df_concept.drop(columns=\"concept_id\")"
   ]
  },
  {
   "cell_type": "code",
   "execution_count": 312,
   "metadata": {},
   "outputs": [],
   "source": [
    "for i in range(1,6):\n",
    "    c = \"stratum_{:d}\".format(i)\n",
    "    is_ok = ~(df_result[\"bad_{:d}\".format(i)])\n",
    "    s = df_result[c][is_ok].astype(int)\n",
    "    df = pd.DataFrame(s)\n",
    "    decoded = pd.merge(df, df_concept, how=\"left\", left_on=c, right_index=True)\n",
    "    decoded.loc[decoded[\"concept_name\"].isna(), \"concept_name\"] = \"No matching concept\"\n",
    "    df_result.loc[is_ok, c] = decoded[\"concept_name\"]\n",
    "    \n",
    "# drop non-concept flags\n",
    "df_result = df_result.drop(columns=list(filter(lambda x: x[:3] == 'bad', df_result.columns)))"
   ]
  },
  {
   "cell_type": "code",
   "execution_count": 329,
   "metadata": {},
   "outputs": [],
   "source": [
    "df_result.to_feather(\"./data/achilles_results.feather\")"
   ]
  },
  {
   "cell_type": "code",
   "execution_count": 25,
   "metadata": {},
   "outputs": [],
   "source": [
    "import os\n",
    "import pandas as pd"
   ]
  },
  {
   "cell_type": "code",
   "execution_count": 26,
   "metadata": {},
   "outputs": [],
   "source": [
    "# --------- DATA ------------------------------------------------------\n",
    "dir_data = './data'\n",
    "file_achilles_res = os.path.join(dir_data, 'achilles_results.feather')\n",
    "assert os.path.isfile(file_achilles_res), f\"File {file_achilles_res:s} not found.\"\n",
    "\n",
    "df = pd.read_feather(file_achilles_res)"
   ]
  },
  {
   "cell_type": "code",
   "execution_count": 28,
   "metadata": {},
   "outputs": [],
   "source": [
    "# __________________QUERY (TABLE 1)_____________________________________\n",
    "# --------- ACHILLES GENERIC -------------------------------------------\n",
    "def _extract_achilles(df, analysis_id, num_strata):\n",
    "    strata = ['stratum_{:d}'.format(i+1) for i in range(num_strata)]\n",
    "    return df.loc[df.analysis_id == analysis_id, [*strata, 'count_value']]\n",
    "\n",
    "def _generate_achilles_simple(analysis_id, num_strata):\n",
    "    def achilles_simple(df):\n",
    "        qry = _extract_achilles(df, analysis_id, num_strata)\n",
    "        for i in range(num_strata):\n",
    "            qry[f'stratum_{i+1}'] = qry[f'stratum_{i+1}'].str.capitalize()\n",
    "        return qry.reset_index(drop=True)\n",
    "    return achilles_simple\n",
    "\n",
    "\n",
    "# --------- ACHILLES 'QUERIES' -----------------------------------------\n",
    "achilles_gender = _generate_achilles_simple(2, 1)\n",
    "achilles_race = _generate_achilles_simple(4, 1)\n",
    "achilles_ethnicity = _generate_achilles_simple(5, 1)\n",
    "achilles_race_ethnicity = _generate_achilles_simple(12, 2)\n",
    "\n",
    "# Persons by Age\n",
    "# ==> Note will sometimes need to fill in zeros (o.w. missing) on-the-fly in Dash.\n",
    "def achilles_age(df, aggregate_to=1):\n",
    "    c_year = 2020 # Date at time of study, not date.today().strftime(\"%Y\")\n",
    "    qry = qry = _extract_achilles(df, 3, 1)\n",
    "    qry['stratum_1'] = qry['stratum_1'].astype(int) \n",
    "    qry['stratum_1'] = 2020 - qry['stratum_1']\n",
    "    return qry.reset_index(drop=True)\n",
    "\n",
    "\n",
    "# --------- UTILS ------------------------------------------------------\n",
    "\n",
    "def aggregate_age(df, age_column, step, label=False, agg_below=None, sort=\"asc\"):\n",
    "    df[age_column] = (df[age_column] // step) * step\n",
    "    if agg_below is not None:\n",
    "        lt_cutoff = df[age_column] < agg_below\n",
    "        df.loc[lt_cutoff, age_column] = -1  # to allow sorting\n",
    "    df = df.groupby(age_column, as_index=False).sum()\n",
    "    df[age_column] = df[age_column].sort_values(ascending = sort[:3]=='asc')\\\n",
    "        .reset_index(drop=True)\n",
    "    if label:\n",
    "        if agg_below is not None:\n",
    "            gt_cutoff = df[age_column] != -1\n",
    "            df.loc[gt_cutoff, age_column] = df.loc[gt_cutoff, age_column].map(\n",
    "                lambda x: \"{:d}-{:d}\".format(x, x+step-1))\n",
    "            df[age_column] = df[age_column].astype(str)\n",
    "            df.loc[~gt_cutoff, age_column] = f\"<{agg_below}\"\n",
    "        else:\n",
    "            df[age_column] = df[age_column].map(lambda x: '{:d}-{:d}'.format(x, x+step-1))\n",
    "    return df\n",
    "\n",
    "def concat_pct_col(df, val_column='count_value'):\n",
    "    pct_col = df[val_column] / sum(df[val_column])\n",
    "    df['%'] = pct_col.map(lambda x: '{:.1f}'.format(100*x))\n",
    "    return df\n",
    "\n",
    "def title_row(df, title):\n",
    "    df = df.astype(str)\n",
    "    trow = pd.DataFrame([[title, *['' for i in range(df.shape[1]-1)]]], columns=df.columns)\n",
    "    return pd.concat((trow, df), axis=0, ignore_index=True)\n",
    "    \n",
    "# ______________________________________________________________________\n",
    "\n",
    "\n",
    "\n",
    "\n"
   ]
  },
  {
   "cell_type": "code",
   "execution_count": 7,
   "metadata": {},
   "outputs": [],
   "source": [
    "import table1"
   ]
  },
  {
   "cell_type": "code",
   "execution_count": 8,
   "metadata": {},
   "outputs": [
    {
     "data": {
      "text/html": [
       "<div>\n",
       "<style scoped>\n",
       "    .dataframe tbody tr th:only-of-type {\n",
       "        vertical-align: middle;\n",
       "    }\n",
       "\n",
       "    .dataframe tbody tr th {\n",
       "        vertical-align: top;\n",
       "    }\n",
       "\n",
       "    .dataframe thead th {\n",
       "        text-align: right;\n",
       "    }\n",
       "</style>\n",
       "<table border=\"1\" class=\"dataframe\">\n",
       "  <thead>\n",
       "    <tr style=\"text-align: right;\">\n",
       "      <th></th>\n",
       "      <th>stratum_1</th>\n",
       "      <th>count_value</th>\n",
       "      <th>%</th>\n",
       "    </tr>\n",
       "  </thead>\n",
       "  <tbody>\n",
       "    <tr>\n",
       "      <th>0</th>\n",
       "      <td>Age</td>\n",
       "      <td></td>\n",
       "      <td></td>\n",
       "    </tr>\n",
       "    <tr>\n",
       "      <th>1</th>\n",
       "      <td>50-59</td>\n",
       "      <td>16</td>\n",
       "      <td>1.7</td>\n",
       "    </tr>\n",
       "    <tr>\n",
       "      <th>2</th>\n",
       "      <td>60-69</td>\n",
       "      <td>42</td>\n",
       "      <td>4.6</td>\n",
       "    </tr>\n",
       "    <tr>\n",
       "      <th>3</th>\n",
       "      <td>70-79</td>\n",
       "      <td>162</td>\n",
       "      <td>17.7</td>\n",
       "    </tr>\n",
       "    <tr>\n",
       "      <th>4</th>\n",
       "      <td>80-89</td>\n",
       "      <td>413</td>\n",
       "      <td>45.1</td>\n",
       "    </tr>\n",
       "    <tr>\n",
       "      <th>5</th>\n",
       "      <td>90-99</td>\n",
       "      <td>247</td>\n",
       "      <td>27.0</td>\n",
       "    </tr>\n",
       "    <tr>\n",
       "      <th>6</th>\n",
       "      <td>100-109</td>\n",
       "      <td>36</td>\n",
       "      <td>3.9</td>\n",
       "    </tr>\n",
       "    <tr>\n",
       "      <th>7</th>\n",
       "      <td>Gender</td>\n",
       "      <td></td>\n",
       "      <td></td>\n",
       "    </tr>\n",
       "    <tr>\n",
       "      <th>8</th>\n",
       "      <td>Male</td>\n",
       "      <td>461</td>\n",
       "      <td>46.1</td>\n",
       "    </tr>\n",
       "    <tr>\n",
       "      <th>9</th>\n",
       "      <td>Female</td>\n",
       "      <td>539</td>\n",
       "      <td>53.9</td>\n",
       "    </tr>\n",
       "    <tr>\n",
       "      <th>10</th>\n",
       "      <td>Race</td>\n",
       "      <td></td>\n",
       "      <td></td>\n",
       "    </tr>\n",
       "    <tr>\n",
       "      <th>11</th>\n",
       "      <td>No matching concept</td>\n",
       "      <td>61</td>\n",
       "      <td>6.1</td>\n",
       "    </tr>\n",
       "    <tr>\n",
       "      <th>12</th>\n",
       "      <td>Black or african american</td>\n",
       "      <td>93</td>\n",
       "      <td>9.3</td>\n",
       "    </tr>\n",
       "    <tr>\n",
       "      <th>13</th>\n",
       "      <td>White</td>\n",
       "      <td>846</td>\n",
       "      <td>84.6</td>\n",
       "    </tr>\n",
       "    <tr>\n",
       "      <th>14</th>\n",
       "      <td>Ethnicity</td>\n",
       "      <td></td>\n",
       "      <td></td>\n",
       "    </tr>\n",
       "    <tr>\n",
       "      <th>15</th>\n",
       "      <td>Hispanic or latino</td>\n",
       "      <td>20</td>\n",
       "      <td>2.0</td>\n",
       "    </tr>\n",
       "    <tr>\n",
       "      <th>16</th>\n",
       "      <td>Not hispanic or latino</td>\n",
       "      <td>980</td>\n",
       "      <td>98.0</td>\n",
       "    </tr>\n",
       "  </tbody>\n",
       "</table>\n",
       "</div>"
      ],
      "text/plain": [
       "                    stratum_1 count_value     %\n",
       "0                         Age                  \n",
       "1                       50-59          16   1.7\n",
       "2                       60-69          42   4.6\n",
       "3                       70-79         162  17.7\n",
       "4                       80-89         413  45.1\n",
       "5                       90-99         247  27.0\n",
       "6                     100-109          36   3.9\n",
       "7                      Gender                  \n",
       "8                        Male         461  46.1\n",
       "9                      Female         539  53.9\n",
       "10                       Race                  \n",
       "11        No matching concept          61   6.1\n",
       "12  Black or african american          93   9.3\n",
       "13                      White         846  84.6\n",
       "14                  Ethnicity                  \n",
       "15         Hispanic or latino          20   2.0\n",
       "16     Not hispanic or latino         980  98.0"
      ]
     },
     "execution_count": 8,
     "metadata": {},
     "output_type": "execute_result"
    }
   ],
   "source": [
    "table1.query(df)"
   ]
  },
  {
   "cell_type": "code",
   "execution_count": 30,
   "metadata": {},
   "outputs": [
    {
     "data": {
      "text/html": [
       "<div>\n",
       "<style scoped>\n",
       "    .dataframe tbody tr th:only-of-type {\n",
       "        vertical-align: middle;\n",
       "    }\n",
       "\n",
       "    .dataframe tbody tr th {\n",
       "        vertical-align: top;\n",
       "    }\n",
       "\n",
       "    .dataframe thead th {\n",
       "        text-align: right;\n",
       "    }\n",
       "</style>\n",
       "<table border=\"1\" class=\"dataframe\">\n",
       "  <thead>\n",
       "    <tr style=\"text-align: right;\">\n",
       "      <th></th>\n",
       "      <th>stratum_1</th>\n",
       "      <th>count_value</th>\n",
       "      <th>%</th>\n",
       "    </tr>\n",
       "  </thead>\n",
       "  <tbody>\n",
       "    <tr>\n",
       "      <th>0</th>\n",
       "      <td>50-59</td>\n",
       "      <td>16</td>\n",
       "      <td>1.7</td>\n",
       "    </tr>\n",
       "    <tr>\n",
       "      <th>1</th>\n",
       "      <td>60-69</td>\n",
       "      <td>42</td>\n",
       "      <td>4.6</td>\n",
       "    </tr>\n",
       "    <tr>\n",
       "      <th>2</th>\n",
       "      <td>70-79</td>\n",
       "      <td>162</td>\n",
       "      <td>17.7</td>\n",
       "    </tr>\n",
       "    <tr>\n",
       "      <th>3</th>\n",
       "      <td>80-89</td>\n",
       "      <td>413</td>\n",
       "      <td>45.1</td>\n",
       "    </tr>\n",
       "    <tr>\n",
       "      <th>4</th>\n",
       "      <td>90-99</td>\n",
       "      <td>247</td>\n",
       "      <td>27.0</td>\n",
       "    </tr>\n",
       "    <tr>\n",
       "      <th>5</th>\n",
       "      <td>100-109</td>\n",
       "      <td>36</td>\n",
       "      <td>3.9</td>\n",
       "    </tr>\n",
       "  </tbody>\n",
       "</table>\n",
       "</div>"
      ],
      "text/plain": [
       "  stratum_1  count_value     %\n",
       "0     50-59           16   1.7\n",
       "1     60-69           42   4.6\n",
       "2     70-79          162  17.7\n",
       "3     80-89          413  45.1\n",
       "4     90-99          247  27.0\n",
       "5   100-109           36   3.9"
      ]
     },
     "execution_count": 30,
     "metadata": {},
     "output_type": "execute_result"
    }
   ],
   "source": [
    "age"
   ]
  },
  {
   "cell_type": "code",
   "execution_count": 29,
   "metadata": {},
   "outputs": [
    {
     "data": {
      "text/html": [
       "<div>\n",
       "<style scoped>\n",
       "    .dataframe tbody tr th:only-of-type {\n",
       "        vertical-align: middle;\n",
       "    }\n",
       "\n",
       "    .dataframe tbody tr th {\n",
       "        vertical-align: top;\n",
       "    }\n",
       "\n",
       "    .dataframe thead th {\n",
       "        text-align: right;\n",
       "    }\n",
       "</style>\n",
       "<table border=\"1\" class=\"dataframe\">\n",
       "  <thead>\n",
       "    <tr style=\"text-align: right;\">\n",
       "      <th></th>\n",
       "      <th>stratum_1</th>\n",
       "      <th>count_value</th>\n",
       "      <th>%</th>\n",
       "    </tr>\n",
       "  </thead>\n",
       "  <tbody>\n",
       "    <tr>\n",
       "      <th>0</th>\n",
       "      <td>Age</td>\n",
       "      <td></td>\n",
       "      <td></td>\n",
       "    </tr>\n",
       "    <tr>\n",
       "      <th>1</th>\n",
       "      <td>50-59</td>\n",
       "      <td>16</td>\n",
       "      <td>1.7</td>\n",
       "    </tr>\n",
       "    <tr>\n",
       "      <th>2</th>\n",
       "      <td>60-69</td>\n",
       "      <td>42</td>\n",
       "      <td>4.6</td>\n",
       "    </tr>\n",
       "    <tr>\n",
       "      <th>3</th>\n",
       "      <td>70-79</td>\n",
       "      <td>162</td>\n",
       "      <td>17.7</td>\n",
       "    </tr>\n",
       "    <tr>\n",
       "      <th>4</th>\n",
       "      <td>80-89</td>\n",
       "      <td>413</td>\n",
       "      <td>45.1</td>\n",
       "    </tr>\n",
       "    <tr>\n",
       "      <th>5</th>\n",
       "      <td>90-99</td>\n",
       "      <td>247</td>\n",
       "      <td>27.0</td>\n",
       "    </tr>\n",
       "    <tr>\n",
       "      <th>6</th>\n",
       "      <td>100-109</td>\n",
       "      <td>36</td>\n",
       "      <td>3.9</td>\n",
       "    </tr>\n",
       "    <tr>\n",
       "      <th>7</th>\n",
       "      <td>Gender</td>\n",
       "      <td></td>\n",
       "      <td></td>\n",
       "    </tr>\n",
       "    <tr>\n",
       "      <th>8</th>\n",
       "      <td>Male</td>\n",
       "      <td>461</td>\n",
       "      <td>46.1</td>\n",
       "    </tr>\n",
       "    <tr>\n",
       "      <th>9</th>\n",
       "      <td>Female</td>\n",
       "      <td>539</td>\n",
       "      <td>53.9</td>\n",
       "    </tr>\n",
       "    <tr>\n",
       "      <th>10</th>\n",
       "      <td>Race</td>\n",
       "      <td></td>\n",
       "      <td></td>\n",
       "    </tr>\n",
       "    <tr>\n",
       "      <th>11</th>\n",
       "      <td>No matching concept</td>\n",
       "      <td>61</td>\n",
       "      <td>6.1</td>\n",
       "    </tr>\n",
       "    <tr>\n",
       "      <th>12</th>\n",
       "      <td>Black or african american</td>\n",
       "      <td>93</td>\n",
       "      <td>9.3</td>\n",
       "    </tr>\n",
       "    <tr>\n",
       "      <th>13</th>\n",
       "      <td>White</td>\n",
       "      <td>846</td>\n",
       "      <td>84.6</td>\n",
       "    </tr>\n",
       "    <tr>\n",
       "      <th>14</th>\n",
       "      <td>Ethnicity</td>\n",
       "      <td></td>\n",
       "      <td></td>\n",
       "    </tr>\n",
       "    <tr>\n",
       "      <th>15</th>\n",
       "      <td>Hispanic or latino</td>\n",
       "      <td>20</td>\n",
       "      <td>2.0</td>\n",
       "    </tr>\n",
       "    <tr>\n",
       "      <th>16</th>\n",
       "      <td>Not hispanic or latino</td>\n",
       "      <td>980</td>\n",
       "      <td>98.0</td>\n",
       "    </tr>\n",
       "  </tbody>\n",
       "</table>\n",
       "</div>"
      ],
      "text/plain": [
       "                    stratum_1 count_value     %\n",
       "0                         Age                  \n",
       "1                       50-59          16   1.7\n",
       "2                       60-69          42   4.6\n",
       "3                       70-79         162  17.7\n",
       "4                       80-89         413  45.1\n",
       "5                       90-99         247  27.0\n",
       "6                     100-109          36   3.9\n",
       "7                      Gender                  \n",
       "8                        Male         461  46.1\n",
       "9                      Female         539  53.9\n",
       "10                       Race                  \n",
       "11        No matching concept          61   6.1\n",
       "12  Black or african american          93   9.3\n",
       "13                      White         846  84.6\n",
       "14                  Ethnicity                  \n",
       "15         Hispanic or latino          20   2.0\n",
       "16     Not hispanic or latino         980  98.0"
      ]
     },
     "execution_count": 29,
     "metadata": {},
     "output_type": "execute_result"
    }
   ],
   "source": [
    "age = aggregate_age(achilles_age(df), 'stratum_1', 10, label=True, agg_below=40, sort=\"asc\")\n",
    "gender = achilles_gender(df)\n",
    "race = achilles_race(df)\n",
    "ethnicity = achilles_ethnicity(df)\n",
    "\n",
    "\n",
    "pd.concat((\n",
    "    title_row(concat_pct_col(age), 'Age'),\n",
    "    title_row(concat_pct_col(gender), 'Gender'),\n",
    "    title_row(concat_pct_col(race), 'Race'),\n",
    "    title_row(concat_pct_col(ethnicity), 'Ethnicity'),\n",
    "    ), axis=0\n",
    ").reset_index(drop=True)"
   ]
  },
  {
   "cell_type": "code",
   "execution_count": 4,
   "metadata": {},
   "outputs": [
    {
     "ename": "NameError",
     "evalue": "name 'age' is not defined",
     "output_type": "error",
     "traceback": [
      "\u001b[0;31m---------------------------------------------------------------------------\u001b[0m",
      "\u001b[0;31mNameError\u001b[0m                                 Traceback (most recent call last)",
      "\u001b[0;32m<ipython-input-4-d075b0315d53>\u001b[0m in \u001b[0;36m<module>\u001b[0;34m()\u001b[0m\n\u001b[0;32m----> 1\u001b[0;31m \u001b[0mage\u001b[0m\u001b[0;34m\u001b[0m\u001b[0;34m\u001b[0m\u001b[0m\n\u001b[0m",
      "\u001b[0;31mNameError\u001b[0m: name 'age' is not defined"
     ]
    }
   ],
   "source": [
    "age"
   ]
  },
  {
   "cell_type": "code",
   "execution_count": null,
   "metadata": {},
   "outputs": [],
   "source": []
  },
  {
   "cell_type": "code",
   "execution_count": 13,
   "metadata": {
    "scrolled": true
   },
   "outputs": [
    {
     "data": {
      "text/plain": [
       "'__main__'"
      ]
     },
     "execution_count": 13,
     "metadata": {},
     "output_type": "execute_result"
    }
   ],
   "source": [
    "__name__"
   ]
  },
  {
   "cell_type": "code",
   "execution_count": 3,
   "metadata": {},
   "outputs": [
    {
     "data": {
      "text/plain": [
       "<dash.dash.Dash at 0x10d5e8550>"
      ]
     },
     "execution_count": 3,
     "metadata": {},
     "output_type": "execute_result"
    }
   ],
   "source": [
    "dash.Dash(__name__, external_stylesheets=['https://codepen.io/chriddyp/pen/bWLwgP.css'])"
   ]
  },
  {
   "cell_type": "code",
   "execution_count": 14,
   "metadata": {},
   "outputs": [],
   "source": [
    "app = dash.Dash(\"__name__\")"
   ]
  },
  {
   "cell_type": "code",
   "execution_count": 19,
   "metadata": {},
   "outputs": [
    {
     "data": {
      "text/plain": [
       "<dash.resources.Css at 0x1124052710>"
      ]
     },
     "execution_count": 19,
     "metadata": {},
     "output_type": "execute_result"
    }
   ],
   "source": [
    "app.css"
   ]
  }
 ],
 "metadata": {
  "@webio": {
   "lastCommId": null,
   "lastKernelId": null
  },
  "kernelspec": {
   "display_name": "Python [conda env:dash]",
   "language": "python",
   "name": "conda-env-dash-py"
  },
  "language_info": {
   "codemirror_mode": {
    "name": "ipython",
    "version": 3
   },
   "file_extension": ".py",
   "mimetype": "text/x-python",
   "name": "python",
   "nbconvert_exporter": "python",
   "pygments_lexer": "ipython3",
   "version": "3.6.8"
  }
 },
 "nbformat": 4,
 "nbformat_minor": 2
}
